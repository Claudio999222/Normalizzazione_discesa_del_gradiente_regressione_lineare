{
 "cells": [
  {
   "cell_type": "code",
   "execution_count": 2,
   "id": "5b1c2c54",
   "metadata": {},
   "outputs": [],
   "source": [
    "import numpy as np\n",
    "import pandas as pd\n",
    "from timeit import default_timer as timer \n",
    "import matplotlib.pyplot as plt"
   ]
  },
  {
   "cell_type": "markdown",
   "id": "42e927c5",
   "metadata": {},
   "source": [
    "## Importiamo il DataSet"
   ]
  },
  {
   "cell_type": "code",
   "execution_count": 10,
   "id": "33a2915a",
   "metadata": {},
   "outputs": [
    {
     "data": {
      "text/html": [
       "<div>\n",
       "<style scoped>\n",
       "    .dataframe tbody tr th:only-of-type {\n",
       "        vertical-align: middle;\n",
       "    }\n",
       "\n",
       "    .dataframe tbody tr th {\n",
       "        vertical-align: top;\n",
       "    }\n",
       "\n",
       "    .dataframe thead th {\n",
       "        text-align: right;\n",
       "    }\n",
       "</style>\n",
       "<table border=\"1\" class=\"dataframe\">\n",
       "  <thead>\n",
       "    <tr style=\"text-align: right;\">\n",
       "      <th></th>\n",
       "      <th>1.1</th>\n",
       "      <th>1</th>\n",
       "    </tr>\n",
       "  </thead>\n",
       "  <tbody>\n",
       "    <tr>\n",
       "      <th>0</th>\n",
       "      <td>0.9</td>\n",
       "      <td>1.0</td>\n",
       "    </tr>\n",
       "    <tr>\n",
       "      <th>1</th>\n",
       "      <td>1.9</td>\n",
       "      <td>2.1</td>\n",
       "    </tr>\n",
       "    <tr>\n",
       "      <th>2</th>\n",
       "      <td>2.1</td>\n",
       "      <td>1.9</td>\n",
       "    </tr>\n",
       "    <tr>\n",
       "      <th>3</th>\n",
       "      <td>2.9</td>\n",
       "      <td>3.1</td>\n",
       "    </tr>\n",
       "    <tr>\n",
       "      <th>4</th>\n",
       "      <td>3.1</td>\n",
       "      <td>2.9</td>\n",
       "    </tr>\n",
       "  </tbody>\n",
       "</table>\n",
       "</div>"
      ],
      "text/plain": [
       "   1.1    1\n",
       "0  0.9  1.0\n",
       "1  1.9  2.1\n",
       "2  2.1  1.9\n",
       "3  2.9  3.1\n",
       "4  3.1  2.9"
      ]
     },
     "execution_count": 10,
     "metadata": {},
     "output_type": "execute_result"
    }
   ],
   "source": [
    "data = pd.read_csv(r'C:\\Users\\Claud\\OneDrive\\Desktop\\project-a\\MASTER CLASS MACHINE LEARNING\\Regressione lineare\\data\\data_01.csv')\n",
    "data.head()"
   ]
  },
  {
   "cell_type": "markdown",
   "id": "990edf9b",
   "metadata": {},
   "source": [
    "## Assegno i valori a X , Y , Teta0 = c & Teta1 = m , L = learning rate , n = numero features. \n",
    "### Creo un ciclo for :\n",
    "*  Creo la regressione lineare (Teta1 * X + Teta0)\n",
    "*  Creo le derivate di Teta1 e Teta0 (Coefficente angolare della retta & Intercetta)\n",
    "*  Correggo Teta1 e Teta2  in base alle derivata della funzione di costo\n",
    "*  Creo un grafico che mostra la nostra regressione lineare\n",
    "*  Creo un timer che prende il tempo di addestramento del nostro ciclo for "
   ]
  },
  {
   "cell_type": "code",
   "execution_count": 4,
   "id": "05ec6d79",
   "metadata": {},
   "outputs": [
    {
     "name": "stdout",
     "output_type": "stream",
     "text": [
      "Eseguito in  3.666984500014223 secondi\n"
     ]
    },
    {
     "data": {
      "image/png": "[encoded data removed]",
      "text/plain": [
       "<Figure size 640x480 with 1 Axes>"
      ]
     },
     "metadata": {},
     "output_type": "display_data"
    },
    {
     "name": "stdout",
     "output_type": "stream",
     "text": [
      "m 0.8768886479695355 c 0.4631608100545309\n"
     ]
    }
   ],
   "source": [
    "X = data.iloc[:,0]\n",
    "Y = data.iloc[:,1]\n",
    "m = 0\n",
    "c = 0\n",
    "\n",
    "L = 0.0001\n",
    "epochs = 1000\n",
    "\n",
    "n = len(X)\n",
    "start = timer()\n",
    "for o in range(15):\n",
    "    for i in range(epochs):\n",
    "        Y_pred = m * X  + c\n",
    "        D_m = (-2 / n) * sum(X *(Y - Y_pred))\n",
    "        D_c = (-2 / n) * sum(Y - Y_pred)\n",
    "        m = m - L * D_m\n",
    "        c = c - L * D_c\n",
    "        \n",
    "end = timer()\n",
    "\n",
    "print('Eseguito in ', (end - start), 'secondi')\n",
    "Y_pred = m * X + c\n",
    "\n",
    "plt.scatter(X, Y)\n",
    "plt.plot([min(X), max(X)], [min(Y_pred), max(Y_pred)], color = 'red')\n",
    "plt.show()\n",
    "print('m', m, 'c', c)"
   ]
  },
  {
   "cell_type": "markdown",
   "id": "cf6ec771",
   "metadata": {},
   "source": [
    "## Come possiamo notare dal tempo di esecuzione utilizzare un ciclo for per addestrare un modello e' piu veloce rispetto ad impostare lo stesso numero di epoche "
   ]
  },
  {
   "cell_type": "code",
   "execution_count": 7,
   "id": "bd76aa24",
   "metadata": {},
   "outputs": [
    {
     "name": "stdout",
     "output_type": "stream",
     "text": [
      "Eseguito in  3.7640541999135166 secondi\n"
     ]
    }
   ],
   "source": [
    "epochs = 15000\n",
    "start = timer()\n",
    "for i in range(epochs):\n",
    "        Y_pred = m * X  + c\n",
    "        D_m = (-2 / n) * sum(X *(Y - Y_pred))\n",
    "        D_c = (-2 / n) * sum(Y - Y_pred)\n",
    "        m = m - L * D_m\n",
    "        c = c - L * D_c\n",
    "        \n",
    "end = timer()\n",
    "\n",
    "print('Eseguito in ', (end - start), 'secondi')"
   ]
  },
  {
   "cell_type": "markdown",
   "id": "5caf9ef4",
   "metadata": {},
   "source": [
    "## Procediamo ad effettura la normalizzazione dei nostri dati:\n",
    "*  Definiamo i minimi e i massimi di X\n",
    "*  Creiamo un array composto da 0 delle stesse dimensioni dell input\n",
    "*  Creiamo un ulteriore ciclo for per effettuare la normalizzazione per ogni elemento con la formula (x - x_min) / (x_max - x_min)"
   ]
  },
  {
   "cell_type": "code",
   "execution_count": 21,
   "id": "7eb1fbec",
   "metadata": {},
   "outputs": [],
   "source": [
    "def norm(arr):\n",
    "    x_max = max(arr)\n",
    "    x_min = min(arr)\n",
    "    norm = np.zeros(shape=(len(arr), 1))\n",
    "    for i, x in enumerate(arr):\n",
    "        norm[i] = (x - x_min) / (x_max - x_min)\n",
    "    return norm, x_min, x_max\n",
    "\n",
    "X_norm, x_min, x_max = norm(X)\n",
    "Y_norm, y_min, y_max = norm(Y)\n"
   ]
  },
  {
   "cell_type": "markdown",
   "id": "bac472e7",
   "metadata": {},
   "source": [
    "## Diamo nuovi valori per m, c, L, epochs, n"
   ]
  },
  {
   "cell_type": "code",
   "execution_count": 22,
   "id": "631a7547",
   "metadata": {},
   "outputs": [],
   "source": [
    "m = 0 \n",
    "c = 0\n",
    "L = 0.1\n",
    "epochs = 1000\n",
    "n = len(X)"
   ]
  },
  {
   "cell_type": "markdown",
   "id": "e0503242",
   "metadata": {},
   "source": [
    "## Come possiamo vedere dai nostri risultati:\n",
    "*   I valori normalizzati ci danno la possibilita di avere un addestramento piu performante perche non considera gli out-layer\n",
    "*   I tempi di addestramento sono piu bassi "
   ]
  },
  {
   "cell_type": "code",
   "execution_count": 18,
   "id": "e56cea03",
   "metadata": {},
   "outputs": [
    {
     "name": "stdout",
     "output_type": "stream",
     "text": [
      "eseguito in:  0.6056370000587776 secondi\n",
      "m [0.77939296] c [0.74625779]\n"
     ]
    },
    {
     "data": {
      "image/png": "[encoded data removed]",
      "text/plain": [
       "<Figure size 640x480 with 1 Axes>"
      ]
     },
     "metadata": {},
     "output_type": "display_data"
    }
   ],
   "source": [
    "start = timer()\n",
    "for o in range(15):\n",
    "    for i in range(epochs):\n",
    "        Y_pred = m * X_norm + c\n",
    "        D_m = (-2 / n) * sum(X_norm * (Y_norm - Y_pred))\n",
    "        D_c = (-2 / n) * sum(Y_norm - Y_pred)\n",
    "        m = m - L * D_m\n",
    "        c = c - L * D_c\n",
    "end = timer()\n",
    "print('eseguito in: ', (end-start), 'secondi')\n",
    "\n",
    "Y_pred = m * X_norm + c\n",
    "\n",
    "plt.scatter(X_norm, Y_norm)\n",
    "plt.plot([min(X_norm), max(X_norm)],[min(Y_pred), max(Y_pred)], color= 'red')\n",
    "plt.show\n",
    "print('m', m, 'c', c)"
   ]
  },
  {
   "cell_type": "code",
   "execution_count": null,
   "id": "ac675345",
   "metadata": {},
   "outputs": [],
   "source": []
  }
 ],
 "metadata": {
  "kernelspec": {
   "display_name": "Python 3 (ipykernel)",
   "language": "python",
   "name": "python3"
  },
  "language_info": {
   "codemirror_mode": {
    "name": "ipython",
    "version": 3
   },
   "file_extension": ".py",
   "mimetype": "text/x-python",
   "name": "python",
   "nbconvert_exporter": "python",
   "pygments_lexer": "ipython3",
   "version": "3.11.2"
  }
 },
 "nbformat": 4,
 "nbformat_minor": 5
}
